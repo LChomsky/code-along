{
  "nbformat": 4,
  "nbformat_minor": 0,
  "metadata": {
    "colab": {
      "name": "CMSI 1010 - Final Project Proposal.ipynb",
      "provenance": [],
      "collapsed_sections": [],
      "include_colab_link": true
    },
    "kernelspec": {
      "name": "python3",
      "display_name": "Python 3"
    },
    "language_info": {
      "name": "python"
    }
  },
  "cells": [
    {
      "cell_type": "markdown",
      "metadata": {
        "id": "view-in-github",
        "colab_type": "text"
      },
      "source": [
        "<a href=\"https://colab.research.google.com/github/LChomsky/code-along/blob/main/CMSI_1010_Final_Project_Proposal.ipynb\" target=\"_parent\"><img src=\"https://colab.research.google.com/assets/colab-badge.svg\" alt=\"Open In Colab\"/></a>"
      ]
    },
    {
      "cell_type": "markdown",
      "source": [
        "**Group 1:**\n",
        "\n",
        "Liliana Chomsky\n",
        "\n",
        "Ethan Kalafatich\n",
        "\n",
        "Milla Penelope Markovic"
      ],
      "metadata": {
        "id": "0SCHCAoAf8Qw"
      }
    },
    {
      "cell_type": "markdown",
      "source": [
        "**Project Proposal — 10 points**\n",
        "\n",
        "Your first assignment is to come up with an idea for a final project. Your idea must be your own, and should\n",
        "be creative, fun, potentially useful (this isn’t a requirement), and above all, achievable in five weeks. In the\n",
        "past, students have built games (e.g., Tetris or pong), created a module to teach the class a new programming\n",
        "concept (e.g., how to make web apps in Python), or performed data science (e.g., analyzed global population\n",
        "and birth rates per country over time).\n",
        "\n",
        "No matter what project you pick, you should be able to describe two extremes. At the low end, you should\n",
        "describe the bare minimum functionality necessary for the project to demonstrate its intention. You will be\n",
        "expected to get at least this far by the end of the five weeks. At the high end, you should come up with\n",
        "possible extensions to make the project more functional or interesting. A good project idea is one for which\n",
        "it is easy to reach the bare minimum, but has lots of room to grow in many different directions.\n",
        "\n",
        "By the end of the day Thursday, you should submit a project proposal document that **1)** describes your\n",
        "project, including the minimum target as well as a few possible extensions. **2)** In addition to the idea\n",
        "description, you should have a section that lays out your schedule for the next few weeks, and maps out\n",
        "where you expect to be each week from now until the project presentation. You should break the time down\n",
        "into milestones, including the initial design, as well as testing of parts of your system. **3)** You should also\n",
        "submit pictures of each interface/screen or plot in your program. These can be hand-drawn or mocked up\n",
        "using a computer drawing program. Make sure you think about how the program starts, how the user will\n",
        "initially interact with your program, and what it should look like while the user is using your program. There\n",
        "should be one or two pictures for each interaction step. Hint: find a friend and show them the pictures without\n",
        "describing your project. Can they figure out what’s going on? Would they understand what would happen if\n",
        "they clicked somewhere or typed something? **4)** You must include the design of all Python classes and\n",
        "objects you will use to implement your program, and the relationships between these classes (e.g., is-a\n",
        "and has-a). **5)** Finally, tell us which library you will use (e.g., graphics.py, turtle, pygame) and whether you\n",
        "will use the terminal with a text editor or a Google Colab notebook"
      ],
      "metadata": {
        "id": "JtO5qBFWeK05"
      }
    },
    {
      "cell_type": "markdown",
      "source": [
        "### **Describe Your Project:**\n",
        "\n",
        "final-project-group-1 created by GitHub Classroom\n",
        "\n",
        "\n",
        "PLAN - CREATE A GAME LIKE POKEMON, WITH VARYING ENEMIES, NUMBERS, AND SPELLS\n",
        "\n",
        "HIGH END PLAN - Details found within, labeled with (HIGH END PLAN)\n",
        "\n",
        "```\n",
        "Enemies -\n",
        "\n",
        "Each enemy can have one or two abilities.\n",
        "Each enemy should be assigned a number, and randomly be chosen for the next fight.\n",
        "(HIGH END PLAN) At early levels, players should only fight one enemy at a time, and as they level up they may fight multiple enemies. \n",
        "For example, goblins may consist of 4 or 5 rather than one. There may be 2 trolls instead of 1. Etc.\n",
        "\n",
        "ENEMY LIST -\n",
        "- Goblins - Small, weak enemies that have power in numbers. They can *scratch* and *bite* as attacks.\n",
        "- Skeletons - Weak enemies that have returned from death and carry basic weapons. They can *slash* and *stab* as attacks.\n",
        "- Bandits - Enemies armed with cheap weapons and armor. They can *slash* and *stab* as attacks.\n",
        "- Wolves - Vicious beasts with power in numbers. They can *bite* as an attack and *howl* as a defense.\n",
        "- Assassains - Sneaky enemies with fine weapons and light armor. They can *stab* and *poison* as attacks.\n",
        "- Barbarians - Powerful brutes with heavy weapons and high health. They can *slash* and *bash* as attacks.\n",
        "- Warlocks - Evil mages with powerful spells. They can *Necrotic Grasp* and *summon lightning* as attacks. Higher levels may have access to more of the spell list.\n",
        "- Trolls - Large hulking beasts with large clubs and thick skin. They can *bash* and *bite* as attacks.\n",
        "- Dragons - The most powerful beings in the game, with powerful magic and hard scales. They can *fireball* and *bite* as attacks.\n",
        "- Demon Lord - The boss of the game. The demon lord can use *necrotic grasp*, *summon lightning*, and *psychic burst* - (HIGH END PLAN) They can use any spell in the spell list\n",
        "```\n",
        "\n",
        "```\n",
        "Spells -\n",
        "\n",
        "Each attack spell will first select a random number to see if it hits, and then a random number to see damage. The descriptions below are more for the visuals, not for the code.\n",
        "For defense spells, each one automatically hits, and the description is important for the code of what it does.\n",
        "\n",
        "- 1 - Fireball - A blast of Fire Magic\n",
        "- 2 - Healing Hands - Glowing hands to heal oneself between 3-10 hp\n",
        "- 3 - Summon Lightning - Lighting streaks down from the sky\n",
        "- 4 - Necrotic Grasp - The hand of death deals necrotic damage\n",
        "- 5 - Phase - Dodges the next attack\n",
        "- 6 - Poison Cloud - A cloud of poison surrounds the enemy\n",
        "- 7 - Stone skin - Take half damage for the next three rounds of combat\n",
        "- 8 - Holy Beam - A ray of light shoots out at the enemy\n",
        "- 9 - Psychic Burst - Psychic damage blasts the enemy\n",
        "- 10 - Full Counter - Returns the enemy's next attack back to them, but only works 3/4s of the time\n",
        "\n",
        "(HIGH END PLAN) If we have time, we should make it so each spell only has a certain number of uses per fight.\n",
        "```\n",
        "\n",
        "```\n",
        "Leveling Up - \n",
        "\n",
        "The player starts at lvl 1. At level one, they have 15 hp and fireball.\n",
        "Each enemy gives a certain amount of XP. When the required level of XP is reached, the player levels up.\n",
        "Upon leveling up the player gains an additional 10 hp and learns the next spell on the list.\n",
        "The max level the player can reach is level 10. Upon reaching that level, they get to fight the Demon Lord (final boss) \n",
        "Upon defeating the demon lord they win the game.\n",
        "```\n",
        "\n",
        "```\n",
        "Combat - \n",
        "\n",
        "We will ask the player if they're ready for their next battle.\n",
        "A random number between 1 and 9 will determine the type of enemy they fight.\n",
        "Players will have the opportunity to run or fight. There will be fights at the beginning where they should run.\n",
        "At the end of combat they gain XP, and regain all of their health.\n",
        "They're then asked if they're ready for their next combat.\n",
        "```\n",
        "\n",
        "```\n",
        "Main Menu - (HIGH END PLAN)\n",
        "\n",
        "If we have time we can code this.\n",
        "Very basic menu, asking for the adventurer's name, and whether they're ready to start the combat. They can say yes or they can quit the game.\n",
        "There should also be an about/help command to tell players about the game and how to play.\n",
        "\n",
        "(LOW END PLAN)\n",
        "Player has the option to Play or to Exit\n",
        "```\n",
        "\n",
        "```\n",
        "Death -\n",
        "\n",
        "If the player reaches 0 hp, they die and are sent back to the main menu.\n",
        "There they have to start their adventure over.\n",
        "\n",
        "OR\n",
        "\n",
        "(HIGH END PLAN) The player just leaves the combat encounter but keeps their level and is asked to fight again.\n"
      ],
      "metadata": {
        "id": "YGCpeyz2fA4c"
      }
    },
    {
      "cell_type": "markdown",
      "source": [
        "### Schedule:\n",
        "\n",
        "**4/15 - 4/16** - Complete (All or Almost All) Code; Meet in Person\n",
        "\n",
        "**4/19** - Milestone due Tuesday (Code, Description, and Schedule Review)\n",
        "\n",
        "**4/20 - 4/25** - Debugging and Testing\n",
        "\n",
        "**4/23 - 4/25** - Work on Presentation\n",
        "\n",
        "**4/26** - Final Presentation\n",
        "\n",
        "**4/27 - 4/28** - Work on Final Package to Submit (Reviews, User Manual, etc.)\n",
        "\n",
        "*Early Submission - Friday, 4/29*\n",
        "\n",
        "**5/3** - Final Deadline\n"
      ],
      "metadata": {
        "id": "ZxaW7cYifNv1"
      }
    },
    {
      "cell_type": "markdown",
      "source": [
        "### Interface Mockups:\n",
        "\n",
        "Interface Mockups in GitHub Repository in separate file.\n"
      ],
      "metadata": {
        "id": "E0eD5N-CfhKJ"
      }
    },
    {
      "cell_type": "markdown",
      "source": [
        "### Python Classes/Objects - Design & Relations:\n",
        "\n",
        "      Parent Class:  Enemies\n",
        "          Method:  slash\n",
        "          Method:  stab\n",
        "          Method:  bite\n",
        "          Method:  bash\n",
        "          Method:  necrotic grasp\n",
        "          Method:  summon lightening\n",
        "        Child Class:  Goblins\n",
        "          Method:  scratch\n",
        "        Child Class:  Skeletons\n",
        "        Child Class:  Bandits\n",
        "        Child Class:  Wolves\n",
        "          Method:  howl\n",
        "        Child Class:  Assassins\n",
        "          Method:  poison\n",
        "        Child Class:  Barbarians\n",
        "        Child Class:  Warlocks\n",
        "        Child Class:  Trolls\n",
        "        Child Class:  Dragons\n",
        "          Method:  psychic burst\n",
        "      Parent Class:  Spells\n",
        "        Child Class:  Fireball\n",
        "        Child Class:  Healing Hands\n",
        "        Child Class:  Summon Lightening\n",
        "        Child Class:  Necrotic Grasp\n",
        "        Child Class:  Phase\n",
        "        Child Class:  Poison Cloud\n",
        "        Child Class:  Stone Skin\n",
        "        Child Class:  Holy Beam\n",
        "        Child Class:  Psychic Burst\n",
        "        Child Class:  Full Counter\n",
        "\n",
        "      Option 1:  if level +1, append spell to list\n",
        "      if spell in list, user can use; else send error message; no classes for levels\n",
        "\n",
        "      Option 2:  every level has a child class, and within each child class there are spells for the user\n"
      ],
      "metadata": {
        "id": "hf6X7zQxfj7n"
      }
    },
    {
      "cell_type": "markdown",
      "source": [
        "### Library & Terminal:\n",
        "\n",
        "We will be working in Google Colab, which allows peer editting, and then uploading changes to GitHub.  From there we will download the code onto our computers to run tests in pygame."
      ],
      "metadata": {
        "id": "oe4PqAL6fzjn"
      }
    }
  ]
}