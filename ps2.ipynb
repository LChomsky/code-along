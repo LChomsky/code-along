{
  "cells": [
    {
      "cell_type": "markdown",
      "metadata": {
        "id": "view-in-github",
        "colab_type": "text"
      },
      "source": [
        "<a href=\"https://colab.research.google.com/github/LChomsky/code-along/blob/main/ps2.ipynb\" target=\"_parent\"><img src=\"https://colab.research.google.com/assets/colab-badge.svg\" alt=\"Open In Colab\"/></a>"
      ]
    },
    {
      "cell_type": "markdown",
      "metadata": {
        "id": "mMrLNdr0DHHO"
      },
      "source": [
        "# Problem Set 2\n",
        "#### CMSI 1010: Computer Programming and Lab"
      ]
    },
    {
      "cell_type": "markdown",
      "metadata": {
        "id": "fR1_Mlj4DHHT"
      },
      "source": [
        "## Important Dates\n",
        "\n",
        " - Released: 2022-02-01 at 12:00 am [PT]\n",
        " - Deadline: 2022-02-10 at 11:59 pm [PT]"
      ]
    },
    {
      "cell_type": "markdown",
      "metadata": {
        "id": "Padge2K_DHHU"
      },
      "source": [
        "# Question 1: Reading Notes\n",
        "\n",
        "All readings are from the [_Think Python_ textbook](http://greenteapress.com/thinkpython2/thinkpython2.pdf):\n",
        "* Chapter 3\n",
        "* Sections 5.1-5.3\n",
        "* Sections 6.1-6.4\n",
        "\n",
        "You should also review Sections 1.4-1.5 and 2.5.\n",
        "\n",
        "Once you have studied the reading notes, write a summary in the text cell below."
      ]
    },
    {
      "cell_type": "markdown",
      "metadata": {
        "id": "Q8zVRo6PDHHU"
      },
      "source": [
        "Reading Notes:\n",
        "-function: a named sequence of statements that perform a computation.\n",
        "-argument: an experession in parentheses \n",
        "-a function \"takes\" a result and \"returns\" it: return value (ex: int, str)\n",
        "-module: a file that takes a collection of related functions\n",
        "-use an import statement to use the functions in the module\n",
        "-function definition: specifies the name of the new function and the statements that run as the function is called (body and header)\n",
        "-flow of executuion: begins at the fisrt statement of the program, and are run one by one from top to bottom but statements inside the function are only run when they are called\n",
        "-parameters: within the function there are variables assigned to parameters\n",
        "-variables inside functions are local and therefore only exist inside the function\n",
        "-stack diagram: keeps track of variables, they depict the value of each variable and which functions they belong to (they are represented by a frame)\n",
        "-Debugging is an extremely important process to figure out what is going wrong in your code, you can debug as you go along programming\n",
        "-floor division: (//) divides two numbers and rounds down to an integer\n",
        "-modulus operator: (%) divides two numbers and returns the remainder\n",
        "-boolean expressin: means that an expression can be 'true' or 'false'\n",
        "-logical operators: (and, or, not) similar to their word meaning \n",
        "-return values: appear when a function is called for a variable or part of an expression\n",
        "-incremental development: test only a small amount of code in sections so as to avoid longer debugging time\n"
      ]
    },
    {
      "cell_type": "markdown",
      "metadata": {
        "id": "g4eCU2AtDHHV"
      },
      "source": [
        "# Question 2 : print vs. return"
      ]
    },
    {
      "cell_type": "markdown",
      "metadata": {
        "id": "iRryGlkZDHHV"
      },
      "source": [
        "### Part A\n",
        "Run the code cell below."
      ]
    },
    {
      "cell_type": "code",
      "execution_count": null,
      "metadata": {
        "id": "5fK_U69bDHHW"
      },
      "outputs": [],
      "source": [
        "def f1(x):\n",
        "    print(x + 1)\n",
        "\n",
        "def f2(x):\n",
        "    return(x + 1)"
      ]
    },
    {
      "cell_type": "code",
      "execution_count": null,
      "metadata": {
        "colab": {
          "base_uri": "https://localhost:8080/"
        },
        "id": "XpZbv5X2DHHX",
        "outputId": "75c66c54-499d-4fd2-fac3-7fde459e0b0a"
      },
      "outputs": [
        {
          "output_type": "stream",
          "name": "stdout",
          "text": [
            "4\n"
          ]
        }
      ],
      "source": [
        "f1(3)"
      ]
    },
    {
      "cell_type": "code",
      "execution_count": null,
      "metadata": {
        "colab": {
          "base_uri": "https://localhost:8080/"
        },
        "id": "P8RxmKZFDHHY",
        "outputId": "62673e56-30c2-455e-ce91-d951934c87a6"
      },
      "outputs": [
        {
          "output_type": "execute_result",
          "data": {
            "text/plain": [
              "4"
            ]
          },
          "metadata": {},
          "execution_count": 3
        }
      ],
      "source": [
        "f2(3)  "
      ]
    },
    {
      "cell_type": "markdown",
      "metadata": {
        "id": "4O1vo6onDHHY"
      },
      "source": [
        " What happens when we call these functions? It looks like they behave in exactly the same way, but they really don’t. Type your answer in the cell below:"
      ]
    },
    {
      "cell_type": "markdown",
      "metadata": {
        "id": "qqwwtRNSDHHZ"
      },
      "source": [
        "f1 is printing within the function and f2 is returning an actual integer outside of the function."
      ]
    },
    {
      "cell_type": "markdown",
      "metadata": {
        "id": "vto3Nqx2DHHZ"
      },
      "source": [
        "### Part B\n",
        "Now run this code cell"
      ]
    },
    {
      "cell_type": "code",
      "execution_count": null,
      "metadata": {
        "colab": {
          "base_uri": "https://localhost:8080/"
        },
        "id": "zIWnxd9DDHHZ",
        "outputId": "30c75098-737c-4746-9e61-4698a7659d5b"
      },
      "outputs": [
        {
          "output_type": "stream",
          "name": "stdout",
          "text": [
            "4\n"
          ]
        }
      ],
      "source": [
        "a = f1(3)\n",
        "b = f2(3)"
      ]
    },
    {
      "cell_type": "code",
      "execution_count": null,
      "metadata": {
        "id": "oY1uPgukDHHa"
      },
      "outputs": [],
      "source": [
        "a"
      ]
    },
    {
      "cell_type": "code",
      "execution_count": null,
      "metadata": {
        "colab": {
          "base_uri": "https://localhost:8080/"
        },
        "id": "PgGeDucGDHHa",
        "outputId": "57a550a5-031e-4f96-c0e4-50955bba7032"
      },
      "outputs": [
        {
          "output_type": "execute_result",
          "data": {
            "text/plain": [
              "4"
            ]
          },
          "metadata": {},
          "execution_count": 6
        }
      ],
      "source": [
        "b    "
      ]
    },
    {
      "cell_type": "markdown",
      "metadata": {
        "id": "JBMm8aZMDHHa"
      },
      "source": [
        "What are the values of `a` and `b`? Why are they different? Type your answer in the cell below:"
      ]
    },
    {
      "cell_type": "markdown",
      "metadata": {
        "id": "tgaBE7_0DHHb"
      },
      "source": [
        "stilm a is printing and b is returning so the value changes for b."
      ]
    },
    {
      "cell_type": "markdown",
      "metadata": {
        "id": "ohq4i47eDHHb"
      },
      "source": [
        "### Part C\n",
        "Run the code cell below"
      ]
    },
    {
      "cell_type": "code",
      "execution_count": null,
      "metadata": {
        "colab": {
          "base_uri": "https://localhost:8080/"
        },
        "id": "Ax9g4BSfDHHb",
        "outputId": "1b71ef94-9f19-4948-bef2-e41d2642fc00"
      },
      "outputs": [
        {
          "output_type": "stream",
          "name": "stdout",
          "text": [
            "4\n",
            "None\n"
          ]
        }
      ],
      "source": [
        "print(f1(3))"
      ]
    },
    {
      "cell_type": "code",
      "execution_count": null,
      "metadata": {
        "colab": {
          "base_uri": "https://localhost:8080/"
        },
        "id": "d7h3PXYpDHHb",
        "outputId": "4af631ac-b055-4401-ab10-4f4f21a330d3"
      },
      "outputs": [
        {
          "output_type": "stream",
          "name": "stdout",
          "text": [
            "4\n"
          ]
        }
      ],
      "source": [
        "print(f2(3))"
      ]
    },
    {
      "cell_type": "markdown",
      "metadata": {
        "id": "wMIBYn9xDHHc"
      },
      "source": [
        " What is the output? Why are you getting this output? Type your answer in the cell below:"
      ]
    },
    {
      "cell_type": "markdown",
      "metadata": {
        "id": "_Bnfom73DHHc"
      },
      "source": [
        "because f1 has no return value is prints 4 and none but because f2 has a return value it just prints 4."
      ]
    },
    {
      "cell_type": "markdown",
      "metadata": {
        "id": "y5uKaOoODHHc"
      },
      "source": [
        "### Part D\n",
        "You know the drill 😁"
      ]
    },
    {
      "cell_type": "code",
      "execution_count": null,
      "metadata": {
        "colab": {
          "base_uri": "https://localhost:8080/",
          "height": 184
        },
        "id": "IOMZVDj-DHHc",
        "outputId": "412f5cdd-e110-47d8-8be5-28c85ed0be82"
      },
      "outputs": [
        {
          "output_type": "stream",
          "name": "stdout",
          "text": [
            "4\n"
          ]
        },
        {
          "output_type": "error",
          "ename": "TypeError",
          "evalue": "ignored",
          "traceback": [
            "\u001b[0;31m---------------------------------------------------------------------------\u001b[0m",
            "\u001b[0;31mTypeError\u001b[0m                                 Traceback (most recent call last)",
            "\u001b[0;32m<ipython-input-11-3174c89eb240>\u001b[0m in \u001b[0;36m<module>\u001b[0;34m()\u001b[0m\n\u001b[0;32m----> 1\u001b[0;31m \u001b[0mf1\u001b[0m\u001b[0;34m(\u001b[0m\u001b[0;36m3\u001b[0m\u001b[0;34m)\u001b[0m \u001b[0;34m+\u001b[0m \u001b[0;36m1\u001b[0m\u001b[0;34m\u001b[0m\u001b[0;34m\u001b[0m\u001b[0m\n\u001b[0m",
            "\u001b[0;31mTypeError\u001b[0m: unsupported operand type(s) for +: 'NoneType' and 'int'"
          ]
        }
      ],
      "source": [
        "f1(3) + 1"
      ]
    },
    {
      "cell_type": "code",
      "execution_count": null,
      "metadata": {
        "colab": {
          "base_uri": "https://localhost:8080/"
        },
        "id": "TOa2f3OsDHHc",
        "outputId": "0a2a3460-c5b8-4e8c-ff29-a71bf79b01ad"
      },
      "outputs": [
        {
          "output_type": "execute_result",
          "data": {
            "text/plain": [
              "5"
            ]
          },
          "metadata": {},
          "execution_count": 12
        }
      ],
      "source": [
        "f2(3) + 1"
      ]
    },
    {
      "cell_type": "markdown",
      "metadata": {
        "id": "dCchXfwtDHHd"
      },
      "source": [
        "Study the output lines.\n",
        "    \n",
        "    1. Why are you getting this output?"
      ]
    },
    {
      "cell_type": "markdown",
      "metadata": {
        "id": "biKKrtggDHHd"
      },
      "source": [
        "f1 is getting the error message because you can't add to something when there is no value assigned so because f2 has a value it works. "
      ]
    },
    {
      "cell_type": "markdown",
      "metadata": {
        "id": "rjPOkSImDHHd"
      },
      "source": [
        "    2. What do all these examples tell us about when we want to return and when we want to print? (or, put another way: When is printing useful? When is returning useful?)  "
      ]
    },
    {
      "cell_type": "markdown",
      "metadata": {
        "id": "72esgK3ADHHd"
      },
      "source": [
        "printing is useful when there are trivial values within a function and returning is useful when you want to really use the value. "
      ]
    },
    {
      "cell_type": "markdown",
      "metadata": {
        "id": "Ig_TrH2YDHHd"
      },
      "source": [
        "_Note:_ You might find it more helpful to explicitly `return None` when you don’t want your function to return anything. This way, you’ll always remember that what Python is _actually_ doing is returning `None` if you don’t tell it to return."
      ]
    },
    {
      "cell_type": "markdown",
      "metadata": {
        "id": "jqUHLppqDHHd"
      },
      "source": [
        "## Question 3: Mystery program\n",
        "\n",
        "(This is problem 6.1 in the book.) _Do not run this program._ Just look at it and determine the output. Trace what’s happening using a diagram. Find out what the final outcome is, and _show your work_.\n",
        "    "
      ]
    },
    {
      "cell_type": "markdown",
      "metadata": {
        "id": "xYzU0X9qDHHe"
      },
      "source": [
        "    def b(z):\n",
        "        prod = a(z, z)\n",
        "        print(z, prod)\n",
        "        return prod\n",
        "\n",
        "    def a(x, y):\n",
        "        x = x + 1\n",
        "        return x * y\n",
        "\n",
        "    def c(x, y, z):\n",
        "        total = x + y + z\n",
        "        square = b(total) ** 2\n",
        "        return square\n",
        "\n",
        "    x = 1\n",
        "    y = x + 1\n",
        "    print(c(x, y + 3, x + y))"
      ]
    },
    {
      "cell_type": "markdown",
      "metadata": {
        "id": "YAzfxVB0DHHe"
      },
      "source": [
        "You may either draw the diagram by hand or use a drawing program. If you draw the diagram by hand, take picture or scan it. \n",
        "Upload your image to your google drive and make sure it's a public folder and get the shareable link by right-clicking on the picture and choose 'Get a sharable link'. You just need the id of the image so copy that (the id is between /d/ and /view). ** There is a text cell below but it is invisible, you have to click below to make it show.** Now paste the ID in the link below where it says \"PASTE ID HERE.\""
      ]
    },
    {
      "cell_type": "markdown",
      "metadata": {
        "id": "owN7Mz6bDHHe"
      },
      "source": [
        "![](https://drive.google.com/uc?export=view&id=PASTE1UATeYv6u8mm-XttP76A0P9djOtOexQXE)\n",
        "\n",
        "#here is my stack diagram"
      ]
    },
    {
      "cell_type": "markdown",
      "metadata": {
        "id": "gVgAHgwXDHHe"
      },
      "source": [
        "## Question 4: Guess my number"
      ]
    },
    {
      "cell_type": "markdown",
      "metadata": {
        "id": "yHoQLgPhDHHe"
      },
      "source": [
        "Write a Guess My Number! game. In this game, your program will choose a number, and the user tries to guess that number. Here is an example of how the program will work:"
      ]
    },
    {
      "cell_type": "markdown",
      "metadata": {
        "id": "XY_35HDGDHHf"
      },
      "source": [
        "    Ready to guess? My number is between 0 and 30.\n",
        "    Enter your guess now:\n",
        "    ? 5\n",
        "    Too low!\n",
        "    ? 20\n",
        "    Too high!\n",
        "    ? 13\n",
        "    Too low!\n",
        "    ? 17\n",
        "    Correct! You win!  "
      ]
    },
    {
      "cell_type": "markdown",
      "metadata": {
        "id": "CKTVywUdDHHf"
      },
      "source": [
        "For this game, we will need to generate a random number for the user to guess. For this, import the `random` module (review the lab notebooks for a refresher). We’ll use this module to generate a random integer using the function `randint` as follows: `random.randint(lo, hi)`, where `lo` and `hi` are integers that tell the code the range in which to generate a random integer (this range is inclusive). Let’s use 0 to 30 for now."
      ]
    },
    {
      "cell_type": "markdown",
      "metadata": {
        "id": "AHTJwS0UDHHf"
      },
      "source": [
        "Write a function `guess_compare` that asks the user for a guess (remember how to get user input?), then compares that guess with the correct number and prints out `Too low!`, `Too high!`, or `Correct!`\n",
        "\n",
        "Give the user five guesses. If the user has not yet guessed the number, print out the correct answer. _Hint: Your function `guess_compare` will need to return whether the guess was correct._\n",
        "    \n",
        "Test your game."
      ]
    },
    {
      "cell_type": "code",
      "execution_count": null,
      "metadata": {
        "colab": {
          "base_uri": "https://localhost:8080/"
        },
        "id": "fWP8nQM4DHHf",
        "outputId": "627626d7-be0c-4243-afa0-d1205515f85d"
      },
      "outputs": [
        {
          "output_type": "stream",
          "name": "stdout",
          "text": [
            "Guess a number between 0 and 30: 15\n",
            "Too high!\n",
            "Guess again: 7\n",
            "Too high!\n",
            "Guess again: 5\n",
            "Too high!\n",
            "Guess again: 3\n",
            "Too high!\n",
            "Guess again: 1\n",
            "Correct!\n"
          ]
        },
        {
          "output_type": "execute_result",
          "data": {
            "text/plain": [
              "True"
            ]
          },
          "metadata": {},
          "execution_count": 2
        }
      ],
      "source": [
        "import random\n",
        "\n",
        "def guess_compare(g, n):\n",
        "    guess_number = 0 \n",
        "    while guess_number <= 5:\n",
        "       if int(g) > n:\n",
        "        print(\"Too high!\")\n",
        "        g = input(\"Guess again: \")\n",
        "        guess_number += 1\n",
        "       elif int(g) < n:\n",
        "         print(\"Too low!\")\n",
        "         g = input(\"Guess again: \")\n",
        "         guess_number += 1\n",
        "       else:\n",
        "        print(\"Correct!\")\n",
        "        return True\n",
        "    print(\" The correct answer was : \" + n)\n",
        "    return False\n",
        "\n",
        "n = random.randint (0,30)\n",
        "g = input(\"Guess a number between 0 and 30: \")\n",
        "guess_compare(int(g),int(n))\n",
        "    "
      ]
    }
  ],
  "metadata": {
    "kernelspec": {
      "display_name": "Python 3",
      "language": "python",
      "name": "python3"
    },
    "language_info": {
      "codemirror_mode": {
        "name": "ipython",
        "version": 3
      },
      "file_extension": ".py",
      "mimetype": "text/x-python",
      "name": "python",
      "nbconvert_exporter": "python",
      "pygments_lexer": "ipython3",
      "version": "3.8.5"
    },
    "colab": {
      "name": "ps2.ipynb",
      "provenance": [],
      "include_colab_link": true
    }
  },
  "nbformat": 4,
  "nbformat_minor": 0
}