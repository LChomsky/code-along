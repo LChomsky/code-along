{
  "nbformat": 4,
  "nbformat_minor": 0,
  "metadata": {
    "colab": {
      "name": "Untitled0.ipynb",
      "provenance": [],
      "collapsed_sections": [],
      "authorship_tag": "ABX9TyOXDig4EVbdaCa6ctvMOuUK",
      "include_colab_link": true
    },
    "kernelspec": {
      "name": "python3",
      "display_name": "Python 3"
    },
    "language_info": {
      "name": "python"
    }
  },
  "cells": [
    {
      "cell_type": "markdown",
      "metadata": {
        "id": "view-in-github",
        "colab_type": "text"
      },
      "source": [
        "<a href=\"https://colab.research.google.com/github/LChomsky/code-along/blob/main/Lecture%2011%20Review.ipynb\" target=\"_parent\"><img src=\"https://colab.research.google.com/assets/colab-badge.svg\" alt=\"Open In Colab\"/></a>"
      ]
    },
    {
      "cell_type": "code",
      "execution_count": 19,
      "metadata": {
        "colab": {
          "base_uri": "https://localhost:8080/"
        },
        "id": "GgHaboQ00aN0",
        "outputId": "c50df777-8e38-444d-a972-67102ddf0a8e"
      },
      "outputs": [
        {
          "output_type": "stream",
          "name": "stdout",
          "text": [
            "[1, 4, 3, 17, 18, 19, 2, 1, 14, 14, 11, 1, 5, 5]\n"
          ]
        }
      ],
      "source": [
        "import random\n",
        "example_list = []\n",
        "example_list = [1, 4, 3, 17]\n",
        "for i in range(10):\n",
        "    n = random.randint(1,20)\n",
        "    example_list.append(n)\n",
        "print(example_list)\n"
      ]
    },
    {
      "cell_type": "code",
      "source": [
        "for item in example_list:\n",
        "    print(item, end = \" \" )"
      ],
      "metadata": {
        "colab": {
          "base_uri": "https://localhost:8080/"
        },
        "id": "OcbI4Kkf08Am",
        "outputId": "e4bd79f2-c68d-4ea8-c6e9-394e4feb0730"
      },
      "execution_count": 20,
      "outputs": [
        {
          "output_type": "stream",
          "name": "stdout",
          "text": [
            "1 4 3 17 18 19 2 1 14 14 11 1 5 5 "
          ]
        }
      ]
    },
    {
      "cell_type": "code",
      "source": [
        "for i in range(len(example_list)):\n",
        "   print(i, example_list[i])"
      ],
      "metadata": {
        "colab": {
          "base_uri": "https://localhost:8080/"
        },
        "id": "UDQOoyQl1Z2z",
        "outputId": "ce6923d4-a4a8-482a-8a25-e61025b12d75"
      },
      "execution_count": 21,
      "outputs": [
        {
          "output_type": "stream",
          "name": "stdout",
          "text": [
            "0 1\n",
            "1 4\n",
            "2 3\n",
            "3 17\n",
            "4 18\n",
            "5 19\n",
            "6 2\n",
            "7 1\n",
            "8 14\n",
            "9 14\n",
            "10 11\n",
            "11 1\n",
            "12 5\n",
            "13 5\n"
          ]
        }
      ]
    },
    {
      "cell_type": "code",
      "source": [
        "i = 0 #initialize i to be the first index in the list\n",
        "item = example_list[i] #initialize item to be the first element in the list\n",
        "while item > 10 :\n",
        "  print(example_list[i], end = \" \" )\n",
        "  i+=1 #increase the index to the next on\n",
        "  if i >= len(example_list) -1:\n",
        "   break "
      ],
      "metadata": {
        "id": "oHtvvZwj1rMX"
      },
      "execution_count": 30,
      "outputs": []
    },
    {
      "cell_type": "code",
      "source": [
        "i = 0\n",
        "item = example_list[i]\n",
        "while example_list[i] <= 15:\n",
        "    i+= 1\n",
        "\n",
        "print(i)"
      ],
      "metadata": {
        "colab": {
          "base_uri": "https://localhost:8080/"
        },
        "id": "MHWUSPDu4oZ3",
        "outputId": "17bd6322-a780-4b73-bee2-79b2ae58dc70"
      },
      "execution_count": 31,
      "outputs": [
        {
          "output_type": "stream",
          "name": "stdout",
          "text": [
            "3\n"
          ]
        }
      ]
    }
  ]
}