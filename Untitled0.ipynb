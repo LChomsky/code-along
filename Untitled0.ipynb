{
  "nbformat": 4,
  "nbformat_minor": 0,
  "metadata": {
    "colab": {
      "name": "Untitled0.ipynb",
      "provenance": [],
      "collapsed_sections": [],
      "authorship_tag": "ABX9TyPO08wU1M2OBLLN5MgT4nMK",
      "include_colab_link": true
    },
    "kernelspec": {
      "name": "python3",
      "display_name": "Python 3"
    },
    "language_info": {
      "name": "python"
    }
  },
  "cells": [
    {
      "cell_type": "markdown",
      "metadata": {
        "id": "view-in-github",
        "colab_type": "text"
      },
      "source": [
        "<a href=\"https://colab.research.google.com/github/LChomsky/code-along/blob/main/Untitled0.ipynb\" target=\"_parent\"><img src=\"https://colab.research.google.com/assets/colab-badge.svg\" alt=\"Open In Colab\"/></a>"
      ]
    },
    {
      "cell_type": "code",
      "execution_count": 21,
      "metadata": {
        "colab": {
          "base_uri": "https://localhost:8080/"
        },
        "id": "GgHaboQ00aN0",
        "outputId": "7a54b858-cd96-4d2e-c49d-f88eacfc2f56"
      },
      "outputs": [
        {
          "output_type": "stream",
          "name": "stdout",
          "text": [
            "[6, 13, 20, 20, 18, 13, 10, 10, 9, 16]\n"
          ]
        }
      ],
      "source": [
        "import random\n",
        "example_list = []\n",
        "example_list = []\n",
        "for i in range(10):\n",
        "    n = random.randint(1,20)\n",
        "    example_list.append(n)\n",
        "print(example_list)\n"
      ]
    },
    {
      "cell_type": "code",
      "source": [
        "for item in example_list:\n",
        "    print(item, end = \" \" )"
      ],
      "metadata": {
        "colab": {
          "base_uri": "https://localhost:8080/"
        },
        "id": "OcbI4Kkf08Am",
        "outputId": "a03da9ba-8a01-4ac3-8eaf-1589d9a10d7a"
      },
      "execution_count": 22,
      "outputs": [
        {
          "output_type": "stream",
          "name": "stdout",
          "text": [
            "6 13 20 20 18 13 10 10 9 16 "
          ]
        }
      ]
    },
    {
      "cell_type": "code",
      "source": [
        "for i in range(len(example_list)):\n",
        "   print(i, example_list[i])"
      ],
      "metadata": {
        "colab": {
          "base_uri": "https://localhost:8080/"
        },
        "id": "UDQOoyQl1Z2z",
        "outputId": "e4b82cd7-5a39-44c7-9230-9b84aa3a03e4"
      },
      "execution_count": 23,
      "outputs": [
        {
          "output_type": "stream",
          "name": "stdout",
          "text": [
            "0 6\n",
            "1 13\n",
            "2 20\n",
            "3 20\n",
            "4 18\n",
            "5 13\n",
            "6 10\n",
            "7 10\n",
            "8 9\n",
            "9 16\n"
          ]
        }
      ]
    },
    {
      "cell_type": "code",
      "source": [
        "i = 0 #initialize i to be the first index in the list\n",
        "item = example_list[i] #initialize item to be the first element in the list\n",
        "while item > 10 :\n",
        "  print(example_list[i], end = \" \" )\n",
        "  i+=1 #increase the index to the next on\n",
        "  if i >= len(example_list) -1:\n",
        "   break "
      ],
      "metadata": {
        "id": "oHtvvZwj1rMX"
      },
      "execution_count": 24,
      "outputs": []
    },
    {
      "cell_type": "code",
      "source": [
        "i = 0\n",
        "item = example_list[i]\n",
        "while example_list[i] <= 15:\n",
        "    i+= 1\n",
        "\n",
        "print(i)"
      ],
      "metadata": {
        "colab": {
          "base_uri": "https://localhost:8080/"
        },
        "id": "MHWUSPDu4oZ3",
        "outputId": "5778e2e2-8d79-420c-be23-5c25cf7d745e"
      },
      "execution_count": 25,
      "outputs": [
        {
          "output_type": "stream",
          "name": "stdout",
          "text": [
            "2\n"
          ]
        }
      ]
    },
    {
      "cell_type": "markdown",
      "source": [
        "Second exercise code along"
      ],
      "metadata": {
        "id": "tFhD2ctQ529_"
      }
    },
    {
      "cell_type": "code",
      "source": [
        "def find_all(inlist, num):\n",
        "  index_list = []\n",
        "  for i in range(len(inlist)):\n",
        "    if (inlist[i] == num):\n",
        "      index_list.append(i)\n",
        "  return index_list"
      ],
      "metadata": {
        "id": "6UVuXSU757KX"
      },
      "execution_count": 26,
      "outputs": []
    },
    {
      "cell_type": "code",
      "source": [
        "print(find_all(example_list, 4))\n",
        "print(example_list)"
      ],
      "metadata": {
        "colab": {
          "base_uri": "https://localhost:8080/"
        },
        "id": "Wd8Ytf778CVc",
        "outputId": "03e0844e-cc53-411a-f5bd-35f20dd505fb"
      },
      "execution_count": 27,
      "outputs": [
        {
          "output_type": "stream",
          "name": "stdout",
          "text": [
            "[]\n",
            "[6, 13, 20, 20, 18, 13, 10, 10, 9, 16]\n"
          ]
        }
      ]
    },
    {
      "cell_type": "markdown",
      "source": [
        "Next one, Dictionary practice"
      ],
      "metadata": {
        "id": "YHIV29Yh80M0"
      }
    },
    {
      "cell_type": "code",
      "source": [
        "def avg_dict(indict):\n",
        "  sum = 0 #iitialize the sum value to 0\n",
        "  for key in indict:\n",
        "    if type(indict[key]) == int and type(indict[key]) != float:\n",
        "      print(\"Cannot compute average\")\n",
        "      return None\n",
        "    sum = sum + indict[key]\n",
        "    #doing + bc want to add some byut also keep main value so just adding to it\n",
        "   #or sum = sum + indict[key] - for above line\n",
        "  avg = sum / len(indict)\n",
        "  return avg"
      ],
      "metadata": {
        "id": "PFVgQiPE8xUM"
      },
      "execution_count": 28,
      "outputs": []
    },
    {
      "cell_type": "code",
      "source": [
        "print(avg_dict({\"h\":1, \"k\":1, \"y\": \"hello\", \"t\":10}))"
      ],
      "metadata": {
        "colab": {
          "base_uri": "https://localhost:8080/"
        },
        "id": "zON-M8iG-i_q",
        "outputId": "bf1f59a7-df7b-4981-ef01-5e3c9163eca9"
      },
      "execution_count": 30,
      "outputs": [
        {
          "output_type": "stream",
          "name": "stdout",
          "text": [
            "Cannot compute average\n",
            "None\n"
          ]
        }
      ]
    },
    {
      "cell_type": "code",
      "source": [
        "def avg_grade(nlist1, nlist2):\n",
        "  avg_dict = {}\n",
        "  for item in nlist1: #addind students and grades from first list to the dictionary\n",
        "    avg_dict[item[0]] = item[1]\n",
        "\n",
        "  for item in nlist2:\n",
        "    if item[0] in avg_dict:\n",
        "      avg_dict[item[0]] = (avg_dict[item[0]]) / 2 #lets average the grade of the student (value from dict and the second list)\n",
        "    else:\n",
        "      avg_dict[item[0]] = item[1] #no need to average here since it is only one exam grade\n",
        "\n",
        "  return avg_dict"
      ],
      "metadata": {
        "id": "TOkT3ldXBngI"
      },
      "execution_count": 29,
      "outputs": []
    },
    {
      "cell_type": "code",
      "source": [
        "print(avg_grade([[\"Amy\", 95], [\"Bob\", 95], [\"Elly\", 90]], [[\"Amy\", 105], [\"Bobby\", 100], [\"Elly\", 80]]))"
      ],
      "metadata": {
        "colab": {
          "base_uri": "https://localhost:8080/"
        },
        "id": "k6zCeu3AA2VK",
        "outputId": "6b1a1832-186c-41b0-b9da-f64fa5a54c89"
      },
      "execution_count": 31,
      "outputs": [
        {
          "output_type": "stream",
          "name": "stdout",
          "text": [
            "{'Amy': 47.5, 'Bob': 95, 'Elly': 45.0, 'Bobby': 100}\n"
          ]
        }
      ]
    }
  ]
}